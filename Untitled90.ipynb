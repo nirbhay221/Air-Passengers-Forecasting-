{
  "nbformat": 4,
  "nbformat_minor": 0,
  "metadata": {
    "colab": {
      "name": "Untitled90.ipynb",
      "provenance": [],
      "collapsed_sections": []
    },
    "kernelspec": {
      "name": "python3",
      "display_name": "Python 3"
    }
  },
  "cells": [
    {
      "cell_type": "code",
      "metadata": {
        "id": "Q6UkOWynUk8i"
      },
      "source": [
        "import pandas as pd \n",
        "import tensorflow as tf\n",
        "import numpy as np\n",
        "import matplotlib.pyplot as plt\n",
        "import csv \n"
      ],
      "execution_count": null,
      "outputs": []
    },
    {
      "cell_type": "code",
      "metadata": {
        "colab": {
          "base_uri": "https://localhost:8080/",
          "height": 204
        },
        "id": "Y6YbrDwQVmru",
        "outputId": "a3bfbfe9-768b-46ce-f875-af6a745b85cd"
      },
      "source": [
        "df = pd.read_csv('/content/AirPassengers.csv')\n",
        "df.head()"
      ],
      "execution_count": null,
      "outputs": [
        {
          "output_type": "execute_result",
          "data": {
            "text/html": [
              "<div>\n",
              "<style scoped>\n",
              "    .dataframe tbody tr th:only-of-type {\n",
              "        vertical-align: middle;\n",
              "    }\n",
              "\n",
              "    .dataframe tbody tr th {\n",
              "        vertical-align: top;\n",
              "    }\n",
              "\n",
              "    .dataframe thead th {\n",
              "        text-align: right;\n",
              "    }\n",
              "</style>\n",
              "<table border=\"1\" class=\"dataframe\">\n",
              "  <thead>\n",
              "    <tr style=\"text-align: right;\">\n",
              "      <th></th>\n",
              "      <th>Month</th>\n",
              "      <th>#Passengers</th>\n",
              "    </tr>\n",
              "  </thead>\n",
              "  <tbody>\n",
              "    <tr>\n",
              "      <th>0</th>\n",
              "      <td>1949-01</td>\n",
              "      <td>112</td>\n",
              "    </tr>\n",
              "    <tr>\n",
              "      <th>1</th>\n",
              "      <td>1949-02</td>\n",
              "      <td>118</td>\n",
              "    </tr>\n",
              "    <tr>\n",
              "      <th>2</th>\n",
              "      <td>1949-03</td>\n",
              "      <td>132</td>\n",
              "    </tr>\n",
              "    <tr>\n",
              "      <th>3</th>\n",
              "      <td>1949-04</td>\n",
              "      <td>129</td>\n",
              "    </tr>\n",
              "    <tr>\n",
              "      <th>4</th>\n",
              "      <td>1949-05</td>\n",
              "      <td>121</td>\n",
              "    </tr>\n",
              "  </tbody>\n",
              "</table>\n",
              "</div>"
            ],
            "text/plain": [
              "     Month  #Passengers\n",
              "0  1949-01          112\n",
              "1  1949-02          118\n",
              "2  1949-03          132\n",
              "3  1949-04          129\n",
              "4  1949-05          121"
            ]
          },
          "metadata": {
            "tags": []
          },
          "execution_count": 2
        }
      ]
    },
    {
      "cell_type": "code",
      "metadata": {
        "id": "_PwahVBCVqQA"
      },
      "source": [
        "sunspots = []\n",
        "time_steps = []\n",
        "with open('/content/AirPassengers.csv') as csv_file:\n",
        "  reader = csv.reader(csv_file,delimiter=',')\n",
        "  next(reader)\n",
        "  x=0\n",
        "  for row in reader:\n",
        "    sunspots.append(float(row[1]))\n",
        "    time_steps.append(int(x))\n",
        "    x +=1\n"
      ],
      "execution_count": null,
      "outputs": []
    },
    {
      "cell_type": "code",
      "metadata": {
        "id": "KLrVMXs2Whwd"
      },
      "source": [
        "time = np.array(sunspots)\n",
        "series= np.array(time_steps)"
      ],
      "execution_count": null,
      "outputs": []
    },
    {
      "cell_type": "code",
      "metadata": {
        "id": "FR4dYvp6Wk99"
      },
      "source": [
        "def plot_series(time,series,format='-',start=0,end=None):\n",
        "  plt.plot(time[start:end],series[start:end],format)\n",
        "  plt.xlabel('Time')\n",
        "  plt.ylabel('Series')\n",
        "  plt.grid(False)"
      ],
      "execution_count": null,
      "outputs": []
    },
    {
      "cell_type": "code",
      "metadata": {
        "colab": {
          "base_uri": "https://localhost:8080/",
          "height": 279
        },
        "id": "2xiHnwTmYaBM",
        "outputId": "dfaf54b9-93a2-40c7-8b2c-e1525d84085d"
      },
      "source": [
        "plot_series(time,series)"
      ],
      "execution_count": null,
      "outputs": [
        {
          "output_type": "display_data",
          "data": {
            "image/png": "[encoded data removed]",
            "text/plain": [
              "<Figure size 432x288 with 1 Axes>"
            ]
          },
          "metadata": {
            "tags": [],
            "needs_background": "light"
          }
        }
      ]
    },
    {
      "cell_type": "code",
      "metadata": {
        "colab": {
          "base_uri": "https://localhost:8080/"
        },
        "id": "aFNPFFw4YcWi",
        "outputId": "4a9cabe2-7cdf-400f-d4b4-556c9abc8297"
      },
      "source": [
        "df.shape"
      ],
      "execution_count": null,
      "outputs": [
        {
          "output_type": "execute_result",
          "data": {
            "text/plain": [
              "(144, 2)"
            ]
          },
          "metadata": {
            "tags": []
          },
          "execution_count": 7
        }
      ]
    },
    {
      "cell_type": "code",
      "metadata": {
        "id": "EyJjCOQHYmAG"
      },
      "source": [
        "split_time= 100\n",
        "time_train = time[:split_time]\n",
        "time_valid = time[split_time:]\n",
        "x_train = series[:split_time]\n",
        "x_valid = series[split_time:]"
      ],
      "execution_count": null,
      "outputs": []
    },
    {
      "cell_type": "code",
      "metadata": {
        "id": "nzSYy_7CZZpw"
      },
      "source": [
        "window_size=5\n",
        "batch_size=10\n",
        "shuffle_buffer_size=50"
      ],
      "execution_count": null,
      "outputs": []
    },
    {
      "cell_type": "code",
      "metadata": {
        "id": "T9-E6kkYbXvz"
      },
      "source": [
        "def windowed_dataset(series,window_size,batch_size,shuffle_buffer):\n",
        "  series=tf.expand_dims(series,axis=-1)\n",
        "  dataset = tf.data.Dataset.from_tensor_slices(series)\n",
        "  dataset= dataset.window(window_size+1,shift=1,drop_remainder=True)\n",
        "  dataset = dataset.flat_map(lambda window: window.batch(window_size+1))\n",
        "  dataset= dataset.shuffle(shuffle_buffer).map(lambda window: (window[:-1],window[-1]))\n",
        "  dataset = dataset.batch(batch_size).prefetch(-1)\n",
        "  return dataset"
      ],
      "execution_count": null,
      "outputs": []
    },
    {
      "cell_type": "code",
      "metadata": {
        "id": "P_4A6umRg3zF"
      },
      "source": [
        "def model_forecast(model,series,window_size):\n",
        "  dataset = tf.data.Dataset.from_tensor_slices(series)\n",
        "  dataset= dataset.window(window_size,shift=1,drop_remainder=True)\n",
        "  dataset = dataset.flat_map(lambda window: window.batch(window_size))\n",
        "  dataset = dataset.batch(32).prefetch(-1)\n",
        "  forecast = model.predict(dataset)\n",
        "  return forecast"
      ],
      "execution_count": null,
      "outputs": []
    },
    {
      "cell_type": "code",
      "metadata": {
        "id": "o49xYpunh27q"
      },
      "source": [
        "dataset = windowed_dataset(x_train,window_size,batch_size,shuffle_buffer=shuffle_buffer_size)"
      ],
      "execution_count": null,
      "outputs": []
    },
    {
      "cell_type": "code",
      "metadata": {
        "id": "MS4WdxmaeV1E"
      },
      "source": [
        "model = tf.keras.models.Sequential([\n",
        "                                    tf.keras.layers.Conv1D(filters=100,kernel_size=5,strides=1,padding='causal',input_shape=[None,1],activation='relu'),\n",
        "                                    tf.keras.layers.Bidirectional(tf.keras.layers.LSTM(20,return_sequences=True)),\n",
        "                                    tf.keras.layers.Bidirectional(tf.keras.layers.LSTM(20,return_sequences=True)),\n",
        "                                    tf.keras.layers.Dense(30,activation='relu'),\n",
        "                                    tf.keras.layers.Dense(10,activation='relu'),\n",
        "                                    tf.keras.layers.Dense(1),\n",
        "                                    tf.keras.layers.Lambda(lambda x: x*400)\n",
        "])"
      ],
      "execution_count": null,
      "outputs": []
    },
    {
      "cell_type": "code",
      "metadata": {
        "id": "u-wHybeMfHPK"
      },
      "source": [
        "lr_scheduler= tf.keras.callbacks.LearningRateScheduler(lambda epochs: 1e-8*10**(epochs/20))"
      ],
      "execution_count": null,
      "outputs": []
    },
    {
      "cell_type": "code",
      "metadata": {
        "id": "jF0MzxCFi2Ms"
      },
      "source": [
        "model.compile(loss= tf.keras.losses.Huber(),optimizer=tf.keras.optimizers.SGD(lr=1e-8,momentum=0.9),metrics= ['mae'])"
      ],
      "execution_count": null,
      "outputs": []
    },
    {
      "cell_type": "code",
      "metadata": {
        "colab": {
          "base_uri": "https://localhost:8080/"
        },
        "id": "atQKxAmZjFP1",
        "outputId": "5bca9e8a-58fa-4a14-8e9f-4a760974050c"
      },
      "source": [
        "history=model.fit(dataset,epochs=100,callbacks=[lr_scheduler])"
      ],
      "execution_count": null,
      "outputs": [
        {
          "output_type": "stream",
          "text": [
            "Epoch 1/100\n",
            "10/10 [==============================] - 0s 8ms/step - loss: 331.8675 - mae: 332.3675\n",
            "Epoch 2/100\n",
            "10/10 [==============================] - 0s 8ms/step - loss: 559.9280 - mae: 560.4280\n",
            "Epoch 3/100\n",
            "10/10 [==============================] - 0s 7ms/step - loss: 639.3297 - mae: 639.8297\n",
            "Epoch 4/100\n",
            "10/10 [==============================] - 0s 7ms/step - loss: 666.8830 - mae: 667.3830\n",
            "Epoch 5/100\n",
            "10/10 [==============================] - 0s 7ms/step - loss: 676.3417 - mae: 676.8417\n",
            "Epoch 6/100\n",
            "10/10 [==============================] - 0s 7ms/step - loss: 679.4730 - mae: 679.9730\n",
            "Epoch 7/100\n",
            "10/10 [==============================] - 0s 8ms/step - loss: 680.3778 - mae: 680.8778\n",
            "Epoch 8/100\n",
            "10/10 [==============================] - 0s 7ms/step - loss: 680.4835 - mae: 680.9835\n",
            "Epoch 9/100\n",
            "10/10 [==============================] - 0s 8ms/step - loss: 680.2848 - mae: 680.7848\n",
            "Epoch 10/100\n",
            "10/10 [==============================] - 0s 8ms/step - loss: 679.9513 - mae: 680.4513\n",
            "Epoch 11/100\n",
            "10/10 [==============================] - 0s 8ms/step - loss: 679.5387 - mae: 680.0387\n",
            "Epoch 12/100\n",
            "10/10 [==============================] - 0s 8ms/step - loss: 679.0622 - mae: 679.5622\n",
            "Epoch 13/100\n",
            "10/10 [==============================] - 0s 9ms/step - loss: 678.5229 - mae: 679.0229\n",
            "Epoch 14/100\n",
            "10/10 [==============================] - 0s 8ms/step - loss: 677.9161 - mae: 678.4161\n",
            "Epoch 15/100\n",
            "10/10 [==============================] - 0s 8ms/step - loss: 677.2349 - mae: 677.7349\n",
            "Epoch 16/100\n",
            "10/10 [==============================] - 0s 7ms/step - loss: 676.4701 - mae: 676.9701\n",
            "Epoch 17/100\n",
            "10/10 [==============================] - 0s 7ms/step - loss: 675.6121 - mae: 676.1120\n",
            "Epoch 18/100\n",
            "10/10 [==============================] - 0s 8ms/step - loss: 674.6491 - mae: 675.1491\n",
            "Epoch 19/100\n",
            "10/10 [==============================] - 0s 7ms/step - loss: 673.5688 - mae: 674.0688\n",
            "Epoch 20/100\n",
            "10/10 [==============================] - 0s 8ms/step - loss: 672.3568 - mae: 672.8568\n",
            "Epoch 21/100\n",
            "10/10 [==============================] - 0s 10ms/step - loss: 670.9968 - mae: 671.4968\n",
            "Epoch 22/100\n",
            "10/10 [==============================] - 0s 9ms/step - loss: 669.4707 - mae: 669.9707\n",
            "Epoch 23/100\n",
            "10/10 [==============================] - 0s 11ms/step - loss: 667.7586 - mae: 668.2586\n",
            "Epoch 24/100\n",
            "10/10 [==============================] - 0s 8ms/step - loss: 665.8375 - mae: 666.3375\n",
            "Epoch 25/100\n",
            "10/10 [==============================] - 0s 8ms/step - loss: 663.6821 - mae: 664.1821\n",
            "Epoch 26/100\n",
            "10/10 [==============================] - 0s 8ms/step - loss: 661.2635 - mae: 661.7635\n",
            "Epoch 27/100\n",
            "10/10 [==============================] - 0s 7ms/step - loss: 658.5500 - mae: 659.0500\n",
            "Epoch 28/100\n",
            "10/10 [==============================] - 0s 8ms/step - loss: 655.5052 - mae: 656.0052\n",
            "Epoch 29/100\n",
            "10/10 [==============================] - 0s 8ms/step - loss: 652.0890 - mae: 652.5890\n",
            "Epoch 30/100\n",
            "10/10 [==============================] - 0s 7ms/step - loss: 648.2559 - mae: 648.7559\n",
            "Epoch 31/100\n",
            "10/10 [==============================] - 0s 8ms/step - loss: 643.9553 - mae: 644.4553\n",
            "Epoch 32/100\n",
            "10/10 [==============================] - 0s 8ms/step - loss: 639.1298 - mae: 639.6298\n",
            "Epoch 33/100\n",
            "10/10 [==============================] - 0s 7ms/step - loss: 633.7154 - mae: 634.2154\n",
            "Epoch 34/100\n",
            "10/10 [==============================] - 0s 8ms/step - loss: 627.6404 - mae: 628.1404\n",
            "Epoch 35/100\n",
            "10/10 [==============================] - 0s 8ms/step - loss: 620.8242 - mae: 621.3242\n",
            "Epoch 36/100\n",
            "10/10 [==============================] - 0s 7ms/step - loss: 613.1761 - mae: 613.6761\n",
            "Epoch 37/100\n",
            "10/10 [==============================] - 0s 8ms/step - loss: 604.5951 - mae: 605.0951\n",
            "Epoch 38/100\n",
            "10/10 [==============================] - 0s 8ms/step - loss: 594.9669 - mae: 595.4669\n",
            "Epoch 39/100\n",
            "10/10 [==============================] - 0s 8ms/step - loss: 584.1638 - mae: 584.6638\n",
            "Epoch 40/100\n",
            "10/10 [==============================] - 0s 8ms/step - loss: 572.0426 - mae: 572.5426\n",
            "Epoch 41/100\n",
            "10/10 [==============================] - 0s 8ms/step - loss: 558.4425 - mae: 558.9425\n",
            "Epoch 42/100\n",
            "10/10 [==============================] - 0s 8ms/step - loss: 543.1829 - mae: 543.6829\n",
            "Epoch 43/100\n",
            "10/10 [==============================] - 0s 8ms/step - loss: 526.0613 - mae: 526.5613\n",
            "Epoch 44/100\n",
            "10/10 [==============================] - 0s 7ms/step - loss: 506.8506 - mae: 507.3506\n",
            "Epoch 45/100\n",
            "10/10 [==============================] - 0s 8ms/step - loss: 485.2958 - mae: 485.7958\n",
            "Epoch 46/100\n",
            "10/10 [==============================] - 0s 8ms/step - loss: 461.1110 - mae: 461.6110\n",
            "Epoch 47/100\n",
            "10/10 [==============================] - 0s 8ms/step - loss: 433.9751 - mae: 434.4751\n",
            "Epoch 48/100\n",
            "10/10 [==============================] - 0s 7ms/step - loss: 403.5281 - mae: 404.0281\n",
            "Epoch 49/100\n",
            "10/10 [==============================] - 0s 7ms/step - loss: 369.3660 - mae: 369.8661\n",
            "Epoch 50/100\n",
            "10/10 [==============================] - 0s 8ms/step - loss: 331.0356 - mae: 331.5356\n",
            "Epoch 51/100\n",
            "10/10 [==============================] - 0s 8ms/step - loss: 288.0281 - mae: 288.5281\n",
            "Epoch 52/100\n",
            "10/10 [==============================] - 0s 9ms/step - loss: 239.7728 - mae: 240.2728\n",
            "Epoch 53/100\n",
            "10/10 [==============================] - 0s 9ms/step - loss: 185.6295 - mae: 186.1295\n",
            "Epoch 54/100\n",
            "10/10 [==============================] - 0s 8ms/step - loss: 124.8798 - mae: 125.3798\n",
            "Epoch 55/100\n",
            "10/10 [==============================] - 0s 9ms/step - loss: 58.4505 - mae: 58.9486\n",
            "Epoch 56/100\n",
            "10/10 [==============================] - 0s 8ms/step - loss: 28.8095 - mae: 29.3052\n",
            "Epoch 57/100\n",
            "10/10 [==============================] - 0s 8ms/step - loss: 25.6970 - mae: 26.1938\n",
            "Epoch 58/100\n",
            "10/10 [==============================] - 0s 9ms/step - loss: 22.6437 - mae: 23.1390\n",
            "Epoch 59/100\n",
            "10/10 [==============================] - 0s 7ms/step - loss: 23.9790 - mae: 24.4702\n",
            "Epoch 60/100\n",
            "10/10 [==============================] - 0s 8ms/step - loss: 24.9102 - mae: 25.4102\n",
            "Epoch 61/100\n",
            "10/10 [==============================] - 0s 8ms/step - loss: 23.1586 - mae: 23.6567\n",
            "Epoch 62/100\n",
            "10/10 [==============================] - 0s 9ms/step - loss: 23.5747 - mae: 24.0695\n",
            "Epoch 63/100\n",
            "10/10 [==============================] - 0s 8ms/step - loss: 24.9462 - mae: 25.4383\n",
            "Epoch 64/100\n",
            "10/10 [==============================] - 0s 8ms/step - loss: 23.6031 - mae: 24.1013\n",
            "Epoch 65/100\n",
            "10/10 [==============================] - 0s 8ms/step - loss: 24.9368 - mae: 25.4308\n",
            "Epoch 66/100\n",
            "10/10 [==============================] - 0s 8ms/step - loss: 23.7323 - mae: 24.2315\n",
            "Epoch 67/100\n",
            "10/10 [==============================] - 0s 8ms/step - loss: 24.6496 - mae: 25.1451\n",
            "Epoch 68/100\n",
            "10/10 [==============================] - 0s 8ms/step - loss: 23.4952 - mae: 23.9952\n",
            "Epoch 69/100\n",
            "10/10 [==============================] - 0s 10ms/step - loss: 26.0119 - mae: 26.5067\n",
            "Epoch 70/100\n",
            "10/10 [==============================] - 0s 9ms/step - loss: 22.9562 - mae: 23.4511\n",
            "Epoch 71/100\n",
            "10/10 [==============================] - 0s 8ms/step - loss: 28.1264 - mae: 28.6231\n",
            "Epoch 72/100\n",
            "10/10 [==============================] - 0s 8ms/step - loss: 24.8219 - mae: 25.3198\n",
            "Epoch 73/100\n",
            "10/10 [==============================] - 0s 8ms/step - loss: 31.1489 - mae: 31.6489\n",
            "Epoch 74/100\n",
            "10/10 [==============================] - 0s 8ms/step - loss: 26.6448 - mae: 27.1430\n",
            "Epoch 75/100\n",
            "10/10 [==============================] - 0s 8ms/step - loss: 27.9755 - mae: 28.4706\n",
            "Epoch 76/100\n",
            "10/10 [==============================] - 0s 10ms/step - loss: 24.3662 - mae: 24.8655\n",
            "Epoch 77/100\n",
            "10/10 [==============================] - 0s 8ms/step - loss: 34.5195 - mae: 35.0149\n",
            "Epoch 78/100\n",
            "10/10 [==============================] - 0s 8ms/step - loss: 32.2430 - mae: 32.7407\n",
            "Epoch 79/100\n",
            "10/10 [==============================] - 0s 8ms/step - loss: 39.9140 - mae: 40.4140\n",
            "Epoch 80/100\n",
            "10/10 [==============================] - 0s 8ms/step - loss: 32.3977 - mae: 32.8975\n",
            "Epoch 81/100\n",
            "10/10 [==============================] - 0s 7ms/step - loss: 36.3220 - mae: 36.8220\n",
            "Epoch 82/100\n",
            "10/10 [==============================] - 0s 8ms/step - loss: 48.8648 - mae: 49.3629\n",
            "Epoch 83/100\n",
            "10/10 [==============================] - 0s 7ms/step - loss: 61.3750 - mae: 61.8735\n",
            "Epoch 84/100\n",
            "10/10 [==============================] - 0s 8ms/step - loss: 42.1150 - mae: 42.6115\n",
            "Epoch 85/100\n",
            "10/10 [==============================] - 0s 8ms/step - loss: 39.9750 - mae: 40.4749\n",
            "Epoch 86/100\n",
            "10/10 [==============================] - 0s 8ms/step - loss: 37.6913 - mae: 38.1889\n",
            "Epoch 87/100\n",
            "10/10 [==============================] - 0s 8ms/step - loss: 28.4097 - mae: 28.9014\n",
            "Epoch 88/100\n",
            "10/10 [==============================] - 0s 8ms/step - loss: 31.0850 - mae: 31.5834\n",
            "Epoch 89/100\n",
            "10/10 [==============================] - 0s 8ms/step - loss: 29.1496 - mae: 29.6477\n",
            "Epoch 90/100\n",
            "10/10 [==============================] - 0s 7ms/step - loss: 41.2134 - mae: 41.7129\n",
            "Epoch 91/100\n",
            "10/10 [==============================] - 0s 7ms/step - loss: 35.0262 - mae: 35.5248\n",
            "Epoch 92/100\n",
            "10/10 [==============================] - 0s 8ms/step - loss: 28.4502 - mae: 28.9454\n",
            "Epoch 93/100\n",
            "10/10 [==============================] - 0s 8ms/step - loss: 30.1474 - mae: 30.6413\n",
            "Epoch 94/100\n",
            "10/10 [==============================] - 0s 8ms/step - loss: 71.0007 - mae: 71.5007\n",
            "Epoch 95/100\n",
            "10/10 [==============================] - 0s 7ms/step - loss: 48.2106 - mae: 48.7106\n",
            "Epoch 96/100\n",
            "10/10 [==============================] - 0s 9ms/step - loss: 26.8426 - mae: 27.3389\n",
            "Epoch 97/100\n",
            "10/10 [==============================] - 0s 7ms/step - loss: 53.9964 - mae: 54.4964\n",
            "Epoch 98/100\n",
            "10/10 [==============================] - 0s 7ms/step - loss: 63.6072 - mae: 64.1061\n",
            "Epoch 99/100\n",
            "10/10 [==============================] - 0s 7ms/step - loss: 32.1257 - mae: 32.6198\n",
            "Epoch 100/100\n",
            "10/10 [==============================] - 0s 7ms/step - loss: 43.8596 - mae: 44.3584\n"
          ],
          "name": "stdout"
        }
      ]
    },
    {
      "cell_type": "code",
      "metadata": {
        "colab": {
          "base_uri": "https://localhost:8080/",
          "height": 286
        },
        "id": "MdgRxLmtjKaC",
        "outputId": "3808c30c-0507-46d1-cdaf-a6e8d587175e"
      },
      "source": [
        "plt.semilogx(history.history['lr'],history.history['loss'])"
      ],
      "execution_count": null,
      "outputs": [
        {
          "output_type": "execute_result",
          "data": {
            "text/plain": [
              "[<matplotlib.lines.Line2D at 0x7efd6860e9b0>]"
            ]
          },
          "metadata": {
            "tags": []
          },
          "execution_count": 21
        },
        {
          "output_type": "display_data",
          "data": {
            "image/png": "[encoded data removed]",
            "text/plain": [
              "<Figure size 432x288 with 1 Axes>"
            ]
          },
          "metadata": {
            "tags": [],
            "needs_background": "light"
          }
        }
      ]
    },
    {
      "cell_type": "code",
      "metadata": {
        "id": "ABx84JDujWpy"
      },
      "source": [
        "dataset = windowed_dataset(x_train,window_size,batch_size,shuffle_buffer=shuffle_buffer_size)"
      ],
      "execution_count": null,
      "outputs": []
    },
    {
      "cell_type": "code",
      "metadata": {
        "id": "yx5BaHgrjgJE"
      },
      "source": [
        "tf.keras.backend.clear_session()\n",
        "tf.random.set_seed(51)\n",
        "np.random.seed(51)\n",
        "model = tf.keras.models.Sequential([\n",
        "                                    tf.keras.layers.Conv1D(filters=100,kernel_size=5,strides=1,padding='causal',input_shape=[None,1],activation='relu'),\n",
        "                                    tf.keras.layers.Bidirectional(tf.keras.layers.LSTM(20,return_sequences=True)),\n",
        "                                    tf.keras.layers.Bidirectional(tf.keras.layers.LSTM(20,return_sequences=True)),\n",
        "                                    tf.keras.layers.Dense(30,activation='relu'),\n",
        "                                    tf.keras.layers.Dense(10,activation='relu'),\n",
        "                                    tf.keras.layers.Dense(1),\n",
        "                                    tf.keras.layers.Lambda(lambda x: x*400)\n",
        "])"
      ],
      "execution_count": null,
      "outputs": []
    },
    {
      "cell_type": "code",
      "metadata": {
        "id": "dLrEvL31j0RR"
      },
      "source": [
        "model.compile(loss=tf.keras.losses.Huber(),optimizer=tf.keras.optimizers.SGD(lr=1e-5,momentum=0.9),metrics=['mae'])\n"
      ],
      "execution_count": null,
      "outputs": []
    },
    {
      "cell_type": "code",
      "metadata": {
        "colab": {
          "base_uri": "https://localhost:8080/"
        },
        "id": "dv1Gg_ygkAT_",
        "outputId": "de18a140-9e74-415f-da9d-e686caed0560"
      },
      "source": [
        "history=model.fit(dataset,epochs=150)"
      ],
      "execution_count": null,
      "outputs": [
        {
          "output_type": "stream",
          "text": [
            "Epoch 1/150\n",
            "10/10 [==============================] - 0s 8ms/step - loss: 2.7872 - mae: 3.2527\n",
            "Epoch 2/150\n",
            "10/10 [==============================] - 0s 7ms/step - loss: 1.1466 - mae: 1.5887\n",
            "Epoch 3/150\n",
            "10/10 [==============================] - 0s 7ms/step - loss: 1.6312 - mae: 2.0872\n",
            "Epoch 4/150\n",
            "10/10 [==============================] - 0s 7ms/step - loss: 5.6175 - mae: 6.1087\n",
            "Epoch 5/150\n",
            "10/10 [==============================] - 0s 8ms/step - loss: 3.0595 - mae: 3.5284\n",
            "Epoch 6/150\n",
            "10/10 [==============================] - 0s 7ms/step - loss: 2.3340 - mae: 2.8116\n",
            "Epoch 7/150\n",
            "10/10 [==============================] - 0s 8ms/step - loss: 2.1972 - mae: 2.6594\n",
            "Epoch 8/150\n",
            "10/10 [==============================] - 0s 7ms/step - loss: 0.9989 - mae: 1.4149\n",
            "Epoch 9/150\n",
            "10/10 [==============================] - 0s 7ms/step - loss: 2.2841 - mae: 2.7542\n",
            "Epoch 10/150\n",
            "10/10 [==============================] - 0s 7ms/step - loss: 2.0560 - mae: 2.5334\n",
            "Epoch 11/150\n",
            "10/10 [==============================] - 0s 8ms/step - loss: 0.9922 - mae: 1.4336\n",
            "Epoch 12/150\n",
            "10/10 [==============================] - 0s 8ms/step - loss: 0.7672 - mae: 1.1920\n",
            "Epoch 13/150\n",
            "10/10 [==============================] - 0s 8ms/step - loss: 1.3738 - mae: 1.7928\n",
            "Epoch 14/150\n",
            "10/10 [==============================] - 0s 8ms/step - loss: 5.1993 - mae: 5.6823\n",
            "Epoch 15/150\n",
            "10/10 [==============================] - 0s 8ms/step - loss: 4.8119 - mae: 5.3005\n",
            "Epoch 16/150\n",
            "10/10 [==============================] - 0s 8ms/step - loss: 4.1342 - mae: 4.6192\n",
            "Epoch 17/150\n",
            "10/10 [==============================] - 0s 8ms/step - loss: 3.1842 - mae: 3.6675\n",
            "Epoch 18/150\n",
            "10/10 [==============================] - 0s 7ms/step - loss: 1.6671 - mae: 2.1337\n",
            "Epoch 19/150\n",
            "10/10 [==============================] - 0s 7ms/step - loss: 0.8818 - mae: 1.3032\n",
            "Epoch 20/150\n",
            "10/10 [==============================] - 0s 8ms/step - loss: 1.2704 - mae: 1.6995\n",
            "Epoch 21/150\n",
            "10/10 [==============================] - 0s 7ms/step - loss: 2.5484 - mae: 3.0326\n",
            "Epoch 22/150\n",
            "10/10 [==============================] - 0s 7ms/step - loss: 1.9872 - mae: 2.4583\n",
            "Epoch 23/150\n",
            "10/10 [==============================] - 0s 7ms/step - loss: 2.0195 - mae: 2.4829\n",
            "Epoch 24/150\n",
            "10/10 [==============================] - 0s 7ms/step - loss: 1.1203 - mae: 1.5325\n",
            "Epoch 25/150\n",
            "10/10 [==============================] - 0s 8ms/step - loss: 4.3188 - mae: 4.8018\n",
            "Epoch 26/150\n",
            "10/10 [==============================] - 0s 7ms/step - loss: 6.1763 - mae: 6.6609\n",
            "Epoch 27/150\n",
            "10/10 [==============================] - 0s 7ms/step - loss: 4.8387 - mae: 5.3238\n",
            "Epoch 28/150\n",
            "10/10 [==============================] - 0s 7ms/step - loss: 3.8159 - mae: 4.2957\n",
            "Epoch 29/150\n",
            "10/10 [==============================] - 0s 7ms/step - loss: 4.6809 - mae: 5.1731\n",
            "Epoch 30/150\n",
            "10/10 [==============================] - 0s 8ms/step - loss: 3.6206 - mae: 4.1008\n",
            "Epoch 31/150\n",
            "10/10 [==============================] - 0s 7ms/step - loss: 2.1543 - mae: 2.6068\n",
            "Epoch 32/150\n",
            "10/10 [==============================] - 0s 7ms/step - loss: 2.8951 - mae: 3.3656\n",
            "Epoch 33/150\n",
            "10/10 [==============================] - 0s 7ms/step - loss: 2.3855 - mae: 2.8566\n",
            "Epoch 34/150\n",
            "10/10 [==============================] - 0s 7ms/step - loss: 2.3151 - mae: 2.7739\n",
            "Epoch 35/150\n",
            "10/10 [==============================] - 0s 7ms/step - loss: 1.6260 - mae: 2.0710\n",
            "Epoch 36/150\n",
            "10/10 [==============================] - 0s 7ms/step - loss: 1.8540 - mae: 2.3195\n",
            "Epoch 37/150\n",
            "10/10 [==============================] - 0s 7ms/step - loss: 2.5958 - mae: 3.0665\n",
            "Epoch 38/150\n",
            "10/10 [==============================] - 0s 8ms/step - loss: 2.1375 - mae: 2.6007\n",
            "Epoch 39/150\n",
            "10/10 [==============================] - 0s 10ms/step - loss: 2.4031 - mae: 2.8711\n",
            "Epoch 40/150\n",
            "10/10 [==============================] - 0s 7ms/step - loss: 4.6125 - mae: 5.0976\n",
            "Epoch 41/150\n",
            "10/10 [==============================] - 0s 8ms/step - loss: 4.6799 - mae: 5.1590\n",
            "Epoch 42/150\n",
            "10/10 [==============================] - 0s 8ms/step - loss: 1.6119 - mae: 2.0652\n",
            "Epoch 43/150\n",
            "10/10 [==============================] - 0s 8ms/step - loss: 1.0669 - mae: 1.5010\n",
            "Epoch 44/150\n",
            "10/10 [==============================] - 0s 8ms/step - loss: 0.9464 - mae: 1.3652\n",
            "Epoch 45/150\n",
            "10/10 [==============================] - 0s 8ms/step - loss: 1.1596 - mae: 1.6005\n",
            "Epoch 46/150\n",
            "10/10 [==============================] - 0s 8ms/step - loss: 2.3515 - mae: 2.8296\n",
            "Epoch 47/150\n",
            "10/10 [==============================] - 0s 7ms/step - loss: 1.2264 - mae: 1.6599\n",
            "Epoch 48/150\n",
            "10/10 [==============================] - 0s 7ms/step - loss: 1.8697 - mae: 2.3372\n",
            "Epoch 49/150\n",
            "10/10 [==============================] - 0s 8ms/step - loss: 2.6203 - mae: 3.0947\n",
            "Epoch 50/150\n",
            "10/10 [==============================] - 0s 7ms/step - loss: 2.1307 - mae: 2.6023\n",
            "Epoch 51/150\n",
            "10/10 [==============================] - 0s 8ms/step - loss: 4.1135 - mae: 4.6042\n",
            "Epoch 52/150\n",
            "10/10 [==============================] - 0s 7ms/step - loss: 4.1139 - mae: 4.5973\n",
            "Epoch 53/150\n",
            "10/10 [==============================] - 0s 8ms/step - loss: 4.5506 - mae: 5.0401\n",
            "Epoch 54/150\n",
            "10/10 [==============================] - 0s 9ms/step - loss: 5.3968 - mae: 5.8884\n",
            "Epoch 55/150\n",
            "10/10 [==============================] - 0s 9ms/step - loss: 4.6133 - mae: 5.0993\n",
            "Epoch 56/150\n",
            "10/10 [==============================] - 0s 9ms/step - loss: 3.0488 - mae: 3.5071\n",
            "Epoch 57/150\n",
            "10/10 [==============================] - 0s 7ms/step - loss: 2.3634 - mae: 2.8283\n",
            "Epoch 58/150\n",
            "10/10 [==============================] - 0s 11ms/step - loss: 3.3670 - mae: 3.8379\n",
            "Epoch 59/150\n",
            "10/10 [==============================] - 0s 8ms/step - loss: 4.4485 - mae: 4.9306\n",
            "Epoch 60/150\n",
            "10/10 [==============================] - 0s 8ms/step - loss: 3.2269 - mae: 3.6996\n",
            "Epoch 61/150\n",
            "10/10 [==============================] - 0s 7ms/step - loss: 4.2702 - mae: 4.7567\n",
            "Epoch 62/150\n",
            "10/10 [==============================] - 0s 7ms/step - loss: 5.6773 - mae: 6.1664\n",
            "Epoch 63/150\n",
            "10/10 [==============================] - 0s 8ms/step - loss: 2.1150 - mae: 2.5764\n",
            "Epoch 64/150\n",
            "10/10 [==============================] - 0s 7ms/step - loss: 2.4418 - mae: 2.9061\n",
            "Epoch 65/150\n",
            "10/10 [==============================] - 0s 8ms/step - loss: 1.3107 - mae: 1.7354\n",
            "Epoch 66/150\n",
            "10/10 [==============================] - 0s 8ms/step - loss: 2.6562 - mae: 3.1198\n",
            "Epoch 67/150\n",
            "10/10 [==============================] - 0s 8ms/step - loss: 5.6967 - mae: 6.1832\n",
            "Epoch 68/150\n",
            "10/10 [==============================] - 0s 7ms/step - loss: 7.0192 - mae: 7.5136\n",
            "Epoch 69/150\n",
            "10/10 [==============================] - 0s 8ms/step - loss: 2.6910 - mae: 3.1567\n",
            "Epoch 70/150\n",
            "10/10 [==============================] - 0s 8ms/step - loss: 1.3701 - mae: 1.8141\n",
            "Epoch 71/150\n",
            "10/10 [==============================] - 0s 8ms/step - loss: 2.0721 - mae: 2.5286\n",
            "Epoch 72/150\n",
            "10/10 [==============================] - 0s 8ms/step - loss: 1.6981 - mae: 2.1573\n",
            "Epoch 73/150\n",
            "10/10 [==============================] - 0s 8ms/step - loss: 0.9026 - mae: 1.3285\n",
            "Epoch 74/150\n",
            "10/10 [==============================] - 0s 7ms/step - loss: 2.5412 - mae: 3.0070\n",
            "Epoch 75/150\n",
            "10/10 [==============================] - 0s 7ms/step - loss: 1.9164 - mae: 2.3789\n",
            "Epoch 76/150\n",
            "10/10 [==============================] - 0s 9ms/step - loss: 2.9130 - mae: 3.3800\n",
            "Epoch 77/150\n",
            "10/10 [==============================] - 0s 9ms/step - loss: 4.7749 - mae: 5.2691\n",
            "Epoch 78/150\n",
            "10/10 [==============================] - 0s 9ms/step - loss: 2.2467 - mae: 2.7034\n",
            "Epoch 79/150\n",
            "10/10 [==============================] - 0s 8ms/step - loss: 2.1140 - mae: 2.5881\n",
            "Epoch 80/150\n",
            "10/10 [==============================] - 0s 8ms/step - loss: 3.3692 - mae: 3.8482\n",
            "Epoch 81/150\n",
            "10/10 [==============================] - 0s 7ms/step - loss: 2.0195 - mae: 2.4696\n",
            "Epoch 82/150\n",
            "10/10 [==============================] - 0s 7ms/step - loss: 1.1782 - mae: 1.6183\n",
            "Epoch 83/150\n",
            "10/10 [==============================] - 0s 8ms/step - loss: 1.9659 - mae: 2.4214\n",
            "Epoch 84/150\n",
            "10/10 [==============================] - 0s 7ms/step - loss: 3.9646 - mae: 4.4468\n",
            "Epoch 85/150\n",
            "10/10 [==============================] - 0s 8ms/step - loss: 3.0863 - mae: 3.5649\n",
            "Epoch 86/150\n",
            "10/10 [==============================] - 0s 7ms/step - loss: 2.0876 - mae: 2.5675\n",
            "Epoch 87/150\n",
            "10/10 [==============================] - 0s 8ms/step - loss: 4.1962 - mae: 4.6716\n",
            "Epoch 88/150\n",
            "10/10 [==============================] - 0s 8ms/step - loss: 1.6988 - mae: 2.1594\n",
            "Epoch 89/150\n",
            "10/10 [==============================] - 0s 8ms/step - loss: 2.2107 - mae: 2.6754\n",
            "Epoch 90/150\n",
            "10/10 [==============================] - 0s 9ms/step - loss: 2.0536 - mae: 2.5162\n",
            "Epoch 91/150\n",
            "10/10 [==============================] - 0s 9ms/step - loss: 1.2425 - mae: 1.6697\n",
            "Epoch 92/150\n",
            "10/10 [==============================] - 0s 9ms/step - loss: 1.6110 - mae: 2.0751\n",
            "Epoch 93/150\n",
            "10/10 [==============================] - 0s 7ms/step - loss: 0.8986 - mae: 1.3120\n",
            "Epoch 94/150\n",
            "10/10 [==============================] - 0s 9ms/step - loss: 1.9228 - mae: 2.3739\n",
            "Epoch 95/150\n",
            "10/10 [==============================] - 0s 7ms/step - loss: 1.6107 - mae: 2.0648\n",
            "Epoch 96/150\n",
            "10/10 [==============================] - 0s 8ms/step - loss: 4.0727 - mae: 4.5542\n",
            "Epoch 97/150\n",
            "10/10 [==============================] - 0s 8ms/step - loss: 2.0387 - mae: 2.4873\n",
            "Epoch 98/150\n",
            "10/10 [==============================] - 0s 10ms/step - loss: 0.7944 - mae: 1.1905\n",
            "Epoch 99/150\n",
            "10/10 [==============================] - 0s 9ms/step - loss: 1.0512 - mae: 1.4905\n",
            "Epoch 100/150\n",
            "10/10 [==============================] - 0s 9ms/step - loss: 1.6611 - mae: 2.1161\n",
            "Epoch 101/150\n",
            "10/10 [==============================] - 0s 9ms/step - loss: 1.9115 - mae: 2.3807\n",
            "Epoch 102/150\n",
            "10/10 [==============================] - 0s 8ms/step - loss: 1.9730 - mae: 2.4340\n",
            "Epoch 103/150\n",
            "10/10 [==============================] - 0s 10ms/step - loss: 2.1362 - mae: 2.6006\n",
            "Epoch 104/150\n",
            "10/10 [==============================] - 0s 8ms/step - loss: 3.7650 - mae: 4.2448\n",
            "Epoch 105/150\n",
            "10/10 [==============================] - 0s 8ms/step - loss: 3.0736 - mae: 3.5404\n",
            "Epoch 106/150\n",
            "10/10 [==============================] - 0s 9ms/step - loss: 2.1925 - mae: 2.6424\n",
            "Epoch 107/150\n",
            "10/10 [==============================] - 0s 9ms/step - loss: 3.6117 - mae: 4.1016\n",
            "Epoch 108/150\n",
            "10/10 [==============================] - 0s 10ms/step - loss: 3.3369 - mae: 3.8247\n",
            "Epoch 109/150\n",
            "10/10 [==============================] - 0s 10ms/step - loss: 3.4637 - mae: 3.9268\n",
            "Epoch 110/150\n",
            "10/10 [==============================] - 0s 7ms/step - loss: 3.5846 - mae: 4.0650\n",
            "Epoch 111/150\n",
            "10/10 [==============================] - 0s 8ms/step - loss: 3.9500 - mae: 4.4179\n",
            "Epoch 112/150\n",
            "10/10 [==============================] - 0s 8ms/step - loss: 2.6423 - mae: 3.1100\n",
            "Epoch 113/150\n",
            "10/10 [==============================] - 0s 9ms/step - loss: 2.1837 - mae: 2.6455\n",
            "Epoch 114/150\n",
            "10/10 [==============================] - 0s 8ms/step - loss: 1.6276 - mae: 2.0752\n",
            "Epoch 115/150\n",
            "10/10 [==============================] - 0s 7ms/step - loss: 1.4190 - mae: 1.8552\n",
            "Epoch 116/150\n",
            "10/10 [==============================] - 0s 8ms/step - loss: 1.8800 - mae: 2.3410\n",
            "Epoch 117/150\n",
            "10/10 [==============================] - 0s 8ms/step - loss: 2.1723 - mae: 2.6469\n",
            "Epoch 118/150\n",
            "10/10 [==============================] - 0s 8ms/step - loss: 2.9027 - mae: 3.3901\n",
            "Epoch 119/150\n",
            "10/10 [==============================] - 0s 7ms/step - loss: 4.4662 - mae: 4.9639\n",
            "Epoch 120/150\n",
            "10/10 [==============================] - 0s 7ms/step - loss: 2.2835 - mae: 2.7614\n",
            "Epoch 121/150\n",
            "10/10 [==============================] - 0s 8ms/step - loss: 1.5410 - mae: 1.9811\n",
            "Epoch 122/150\n",
            "10/10 [==============================] - 0s 8ms/step - loss: 1.2813 - mae: 1.7287\n",
            "Epoch 123/150\n",
            "10/10 [==============================] - 0s 7ms/step - loss: 2.9863 - mae: 3.4646\n",
            "Epoch 124/150\n",
            "10/10 [==============================] - 0s 9ms/step - loss: 1.1140 - mae: 1.5525\n",
            "Epoch 125/150\n",
            "10/10 [==============================] - 0s 7ms/step - loss: 0.8278 - mae: 1.2367\n",
            "Epoch 126/150\n",
            "10/10 [==============================] - 0s 7ms/step - loss: 1.2276 - mae: 1.6667\n",
            "Epoch 127/150\n",
            "10/10 [==============================] - 0s 8ms/step - loss: 1.2142 - mae: 1.6499\n",
            "Epoch 128/150\n",
            "10/10 [==============================] - 0s 8ms/step - loss: 2.1905 - mae: 2.6625\n",
            "Epoch 129/150\n",
            "10/10 [==============================] - 0s 8ms/step - loss: 2.2027 - mae: 2.6759\n",
            "Epoch 130/150\n",
            "10/10 [==============================] - 0s 9ms/step - loss: 3.3884 - mae: 3.8654\n",
            "Epoch 131/150\n",
            "10/10 [==============================] - 0s 8ms/step - loss: 3.2448 - mae: 3.7146\n",
            "Epoch 132/150\n",
            "10/10 [==============================] - 0s 9ms/step - loss: 2.9659 - mae: 3.4250\n",
            "Epoch 133/150\n",
            "10/10 [==============================] - 0s 8ms/step - loss: 4.7087 - mae: 5.1995\n",
            "Epoch 134/150\n",
            "10/10 [==============================] - 0s 9ms/step - loss: 3.8537 - mae: 4.3342\n",
            "Epoch 135/150\n",
            "10/10 [==============================] - 0s 8ms/step - loss: 3.7166 - mae: 4.1944\n",
            "Epoch 136/150\n",
            "10/10 [==============================] - 0s 8ms/step - loss: 1.4320 - mae: 1.8856\n",
            "Epoch 137/150\n",
            "10/10 [==============================] - 0s 7ms/step - loss: 1.1865 - mae: 1.5970\n",
            "Epoch 138/150\n",
            "10/10 [==============================] - 0s 7ms/step - loss: 1.6285 - mae: 2.0927\n",
            "Epoch 139/150\n",
            "10/10 [==============================] - 0s 10ms/step - loss: 1.5822 - mae: 2.0325\n",
            "Epoch 140/150\n",
            "10/10 [==============================] - 0s 7ms/step - loss: 0.5424 - mae: 0.9204\n",
            "Epoch 141/150\n",
            "10/10 [==============================] - 0s 8ms/step - loss: 0.7073 - mae: 1.0973\n",
            "Epoch 142/150\n",
            "10/10 [==============================] - 0s 7ms/step - loss: 1.6394 - mae: 2.1032\n",
            "Epoch 143/150\n",
            "10/10 [==============================] - 0s 7ms/step - loss: 1.7175 - mae: 2.1945\n",
            "Epoch 144/150\n",
            "10/10 [==============================] - 0s 8ms/step - loss: 2.3056 - mae: 2.7736\n",
            "Epoch 145/150\n",
            "10/10 [==============================] - 0s 8ms/step - loss: 3.6065 - mae: 4.0908\n",
            "Epoch 146/150\n",
            "10/10 [==============================] - 0s 7ms/step - loss: 3.4130 - mae: 3.8900\n",
            "Epoch 147/150\n",
            "10/10 [==============================] - 0s 9ms/step - loss: 5.1515 - mae: 5.6321\n",
            "Epoch 148/150\n",
            "10/10 [==============================] - 0s 9ms/step - loss: 4.2270 - mae: 4.7205\n",
            "Epoch 149/150\n",
            "10/10 [==============================] - 0s 8ms/step - loss: 1.2165 - mae: 1.6423\n",
            "Epoch 150/150\n",
            "10/10 [==============================] - 0s 8ms/step - loss: 1.1642 - mae: 1.5945\n"
          ],
          "name": "stdout"
        }
      ]
    },
    {
      "cell_type": "code",
      "metadata": {
        "colab": {
          "base_uri": "https://localhost:8080/",
          "height": 390
        },
        "id": "T6ApAuFhkDUC",
        "outputId": "bace23c5-c801-4501-cba2-297ec097ac68"
      },
      "source": [
        "loss= history.history['loss']\n",
        "mae= history.history['mae']\n",
        "epochs = range(len(loss))\n",
        "plt.figure(figsize=(10,6))\n",
        "plt.plot(epochs,loss,'r')\n",
        "plt.plot(epochs,'b')\n",
        "plt.title('loss and mae')\n",
        "plt.show()"
      ],
      "execution_count": null,
      "outputs": [
        {
          "output_type": "display_data",
          "data": {
            "image/png": "[encoded data removed]",
            "text/plain": [
              "<Figure size 720x432 with 1 Axes>"
            ]
          },
          "metadata": {
            "tags": [],
            "needs_background": "light"
          }
        }
      ]
    },
    {
      "cell_type": "code",
      "metadata": {
        "id": "azUNUObbkiR_"
      },
      "source": [
        "rnn_forecast =model_forecast(model,series[...,np.newaxis],window_size)\n",
        "rnn_forecast= rnn_forecast[split_time-window_size:-1,-1,0]\n"
      ],
      "execution_count": null,
      "outputs": []
    },
    {
      "cell_type": "code",
      "metadata": {
        "colab": {
          "base_uri": "https://localhost:8080/",
          "height": 279
        },
        "id": "iQDJfpwCk5X4",
        "outputId": "e58effb4-b986-461c-bf8f-a67204fbaa10"
      },
      "source": [
        "plot_series(time_valid,x_valid)\n",
        "plot_series(time_valid,rnn_forecast)"
      ],
      "execution_count": null,
      "outputs": [
        {
          "output_type": "display_data",
          "data": {
            "image/png": "[encoded data removed]",
            "text/plain": [
              "<Figure size 432x288 with 1 Axes>"
            ]
          },
          "metadata": {
            "tags": [],
            "needs_background": "light"
          }
        }
      ]
    },
    {
      "cell_type": "code",
      "metadata": {
        "colab": {
          "base_uri": "https://localhost:8080/"
        },
        "id": "yUmzEXYGlDcQ",
        "outputId": "26dbeb84-c19b-48a3-d570-dc762f88ce58"
      },
      "source": [
        "tf.keras.metrics.mean_absolute_error(x_valid,rnn_forecast)"
      ],
      "execution_count": null,
      "outputs": [
        {
          "output_type": "execute_result",
          "data": {
            "text/plain": [
              "<tf.Tensor: shape=(), dtype=float32, numpy=18.334063>"
            ]
          },
          "metadata": {
            "tags": []
          },
          "execution_count": 35
        }
      ]
    },
    {
      "cell_type": "code",
      "metadata": {
        "id": "Tm3kfpKOlOoU"
      },
      "source": [
        ""
      ],
      "execution_count": null,
      "outputs": []
    }
  ]
}